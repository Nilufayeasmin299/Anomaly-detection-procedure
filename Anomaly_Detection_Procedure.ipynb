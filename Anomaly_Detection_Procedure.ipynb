{
  "nbformat": 4,
  "nbformat_minor": 0,
  "metadata": {
    "colab": {
      "provenance": [],
      "authorship_tag": "ABX9TyODcJkeSCw5eodAKuF1lmP5",
      "include_colab_link": true
    },
    "kernelspec": {
      "name": "python3",
      "display_name": "Python 3"
    },
    "language_info": {
      "name": "python"
    }
  },
  "cells": [
    {
      "cell_type": "markdown",
      "metadata": {
        "id": "view-in-github",
        "colab_type": "text"
      },
      "source": [
        "<a href=\"https://colab.research.google.com/github/Nilufayeasmin299/Anomaly-detection-procedure/blob/main/Anomaly_Detection_Procedure.ipynb\" target=\"_parent\"><img src=\"https://colab.research.google.com/assets/colab-badge.svg\" alt=\"Open In Colab\"/></a>"
      ]
    },
    {
      "cell_type": "markdown",
      "source": [
        "# This code is a procedure about Anomaly Detection"
      ],
      "metadata": {
        "id": "bP6H0T01GuBy"
      }
    },
    {
      "cell_type": "markdown",
      "source": [
        "**Step-1:** Create a 2-d array of dimensions 100x1000. The elements should contain\n",
        "random values between 0 and 10. Name the array \\normal\" and save\n",
        "it to a binary file (i.e. non text filele) with the name normal.bin; Repeat\n",
        "the same process for another array named \\abnormal\". The array should\n",
        "contain random values between 5 and 15. Save the array in file called\n",
        "abnormal.bin."
      ],
      "metadata": {
        "id": "KVoUJHCBGU5W"
      }
    },
    {
      "cell_type": "code",
      "source": [
        "# import library function\n",
        "import numpy as np"
      ],
      "metadata": {
        "id": "bXTaqMtQGmwM"
      },
      "execution_count": 16,
      "outputs": []
    },
    {
      "cell_type": "code",
      "source": [
        "# Create the 'normal' array with random values between 0 and 10\n",
        "normal = np.random.uniform(0, 10, size=(100, 1000))"
      ],
      "metadata": {
        "id": "gxJktAaVINLn"
      },
      "execution_count": 2,
      "outputs": []
    },
    {
      "cell_type": "markdown",
      "source": [
        "###The **np.random.uniform** function generates random values from a uniform distribution within the specified range."
      ],
      "metadata": {
        "id": "p_zfLsl-IYEa"
      }
    },
    {
      "cell_type": "code",
      "source": [
        "# Save the 'normal' array to a binary file named 'normal.bin'\n",
        "with open('normal.bin', 'wb') as f:\n",
        "    np.save(f, normal)"
      ],
      "metadata": {
        "id": "Qht8W6RgIRa6"
      },
      "execution_count": 3,
      "outputs": []
    },
    {
      "cell_type": "markdown",
      "source": [
        "###The arrays are then saved to binary files using the **np.save** function within a with block that opens the file in binary write mode **('wb')**"
      ],
      "metadata": {
        "id": "DtUDs3BrIvmE"
      }
    },
    {
      "cell_type": "code",
      "source": [
        "# Create the 'abnormal' array with random values between 5 and 15\n",
        "abnormal = np.random.uniform(5, 15, size=(100, 1000))"
      ],
      "metadata": {
        "id": "TEnvf9lyIlqi"
      },
      "execution_count": 5,
      "outputs": []
    },
    {
      "cell_type": "code",
      "source": [
        "# Save the 'abnormal' array to a binary file named 'abnormal.bin'\n",
        "with open('abnormal.bin', 'wb') as f:\n",
        "    np.save(f, abnormal)"
      ],
      "metadata": {
        "id": "c4BkZgqgIo6I"
      },
      "execution_count": 6,
      "outputs": []
    },
    {
      "cell_type": "markdown",
      "source": [
        "**Step-2:** Load the saved data into two arrays (different variables)."
      ],
      "metadata": {
        "id": "8242gLviJRYQ"
      }
    },
    {
      "cell_type": "code",
      "source": [
        "# Load the data from 'normal.bin' into the 'normal' array\n",
        "with open('normal.bin', 'rb') as f:\n",
        "    normal = np.load(f)"
      ],
      "metadata": {
        "id": "Uvb_TlV9JDwk"
      },
      "execution_count": 7,
      "outputs": []
    },
    {
      "cell_type": "code",
      "source": [
        "# Load the data from 'abnormal.bin' into the 'abnormal' array\n",
        "with open('abnormal.bin', 'rb') as f:\n",
        "    abnormal = np.load(f)"
      ],
      "metadata": {
        "id": "lwkJnxqVJhTw"
      },
      "execution_count": 8,
      "outputs": []
    },
    {
      "cell_type": "markdown",
      "source": [
        "**Step-3:** Manipulate these two arrays so that you create two new sets: (a) one array named \\training\" that contains 90% of the data of the normal array, (b) one that array named \\test\" that contains the other 10% of the data of\n",
        "the normal array and 10% of the abnormal array."
      ],
      "metadata": {
        "id": "3Kh6f4WeJutj"
      }
    },
    {
      "cell_type": "code",
      "source": [
        "normal_length = len(normal)"
      ],
      "metadata": {
        "id": "jEuiSK-2JsyY"
      },
      "execution_count": 9,
      "outputs": []
    },
    {
      "cell_type": "code",
      "source": [
        "# Calculate the indices for splitting the data\n",
        "train_index = int(0.9 * normal_length)\n",
        "test_index = train_index + int(0.1 * normal_length)"
      ],
      "metadata": {
        "id": "C0vu8zxJJ67p"
      },
      "execution_count": 10,
      "outputs": []
    },
    {
      "cell_type": "code",
      "source": [
        "# Create the \"training\" array with 90% of the data from the \"normal\" array\n",
        "training = normal[:train_index]"
      ],
      "metadata": {
        "id": "yClqObGgKBPZ"
      },
      "execution_count": 11,
      "outputs": []
    },
    {
      "cell_type": "code",
      "source": [
        "# Create the \"test\" array with 10% of the data from the \"normal\" array and 10% from the \"abnormal\" array\n",
        "test_normal = normal[train_index:test_index]\n",
        "test_abnormal = abnormal[:test_index-train_index]"
      ],
      "metadata": {
        "id": "J1OYY6x-KRDJ"
      },
      "execution_count": 12,
      "outputs": []
    },
    {
      "cell_type": "code",
      "source": [
        "#add 10% data from \"normal\" array and 10% data from \"abnormal\" array\n",
        "test = np.concatenate((test_normal, test_abnormal), axis=0)"
      ],
      "metadata": {
        "id": "cHGFao2BKToH"
      },
      "execution_count": 13,
      "outputs": []
    },
    {
      "cell_type": "markdown",
      "source": [
        "**Step-4:** For the first element (row) in the \\training\" set calculate the euclidean distance of that element to all the rest of the elements in that set (each other row). Retrieve the top five distances and sum them. This is the\n",
        "dissimilarity score of that element to rest of the training set. Repeat the\n",
        "process for all other elements. The scores from this process should be\n",
        "stored in a vector named \\baseline\""
      ],
      "metadata": {
        "id": "isyx48YWKwSW"
      }
    },
    {
      "cell_type": "code",
      "source": [
        "# import library function\n",
        "from scipy.spatial.distance import euclidean"
      ],
      "metadata": {
        "id": "KHBek47qKWK4"
      },
      "execution_count": 14,
      "outputs": []
    },
    {
      "cell_type": "markdown",
      "source": [
        "###In this code, the **euclidean function** from SciPy is used to calculate the Euclidean distance between each pair of elements in the \"training\" set."
      ],
      "metadata": {
        "id": "echE3TZ3LMy1"
      }
    },
    {
      "cell_type": "code",
      "source": [
        "# Calculate dissimilarity scores for each element in the \"training\" set\n",
        "baseline = []\n",
        "for i in range(len(training)):\n",
        "    distances = []\n",
        "    for j in range(len(training)):\n",
        "        if i != j:\n",
        "            distance = euclidean(training[i], training[j])\n",
        "            distances.append(distance)\n",
        "    distances.sort()\n",
        "    dissimilarity_score = sum(distances[:5])\n",
        "    baseline.append(dissimilarity_score)"
      ],
      "metadata": {
        "id": "6vQ9lXh2K_dR"
      },
      "execution_count": 15,
      "outputs": []
    },
    {
      "cell_type": "markdown",
      "source": [
        "###The outer loop iterates over each element in the \"training\" set, and the inner loop calculates the Euclidean distance between the current element **(training[i])** and all other elements in the set, except itself **(if i != j)**. The distances are stored in the **distances** list."
      ],
      "metadata": {
        "id": "DpeswV8QLoOC"
      }
    },
    {
      "cell_type": "code",
      "source": [
        "# Convert the \"baseline\" list to a NumPy array\n",
        "baseline = np.array(baseline)"
      ],
      "metadata": {
        "id": "zZ5ojoSALYm7"
      },
      "execution_count": 17,
      "outputs": []
    },
    {
      "cell_type": "markdown",
      "source": [
        "**Step-5:** For the first element of the \\test\" set, calculate the euclidean distance of that element to all elements contained in the \\training\" set. Retrieve the top 5 distances and sum them. That is the dissimilarity score for that element. If the score is between the min-max values of the \\baseline\" \n",
        "flag that element as normal else  flag it as abnormal. Repeat the process for\n",
        "each element in the test set and print the algorithm's predictions."
      ],
      "metadata": {
        "id": "_EcRPWqUPicp"
      }
    },
    {
      "cell_type": "code",
      "source": [
        "# Calculate dissimilarity scores and flag elements as normal or abnormal\n",
        "predictions = []\n",
        "for i in range(len(test)):\n",
        "    distances = []\n",
        "    for j in range(len(training)):\n",
        "        distance = euclidean(test[i], training[j])\n",
        "        distances.append(distance)\n",
        "    distances.sort()\n",
        "    dissimilarity_score = sum(distances[:5])\n",
        "    \n",
        "    if dissimilarity_score >= np.min(baseline) and dissimilarity_score <= np.max(baseline):\n",
        "        predictions.append(\"normal\")\n",
        "    else:\n",
        "        predictions.append(\"abnormal\")"
      ],
      "metadata": {
        "id": "ZPB323dXPg8P"
      },
      "execution_count": 18,
      "outputs": []
    },
    {
      "cell_type": "markdown",
      "source": [
        "###The outer loop iterates over each element in the \"test\" set, and the inner loop calculates the Euclidean distance between the current element **(test[i])** and all elements in the \"training\" set. The distances are stored in the **distances** list."
      ],
      "metadata": {
        "id": "AulbhIeIQPa4"
      }
    },
    {
      "cell_type": "code",
      "source": [
        "# Print the algorithm's predictions\n",
        "for i, prediction in enumerate(predictions):\n",
        "    print(f\"Element {i+1}: {prediction}\")"
      ],
      "metadata": {
        "colab": {
          "base_uri": "https://localhost:8080/"
        },
        "id": "ypQolUf0QAyS",
        "outputId": "d54f4c2a-6d33-4417-fb3b-4827e1da7d54"
      },
      "execution_count": 19,
      "outputs": [
        {
          "output_type": "stream",
          "name": "stdout",
          "text": [
            "Element 1: normal\n",
            "Element 2: normal\n",
            "Element 3: normal\n",
            "Element 4: normal\n",
            "Element 5: normal\n",
            "Element 6: normal\n",
            "Element 7: normal\n",
            "Element 8: normal\n",
            "Element 9: normal\n",
            "Element 10: normal\n",
            "Element 11: abnormal\n",
            "Element 12: abnormal\n",
            "Element 13: abnormal\n",
            "Element 14: abnormal\n",
            "Element 15: abnormal\n",
            "Element 16: abnormal\n",
            "Element 17: abnormal\n",
            "Element 18: abnormal\n",
            "Element 19: abnormal\n",
            "Element 20: abnormal\n"
          ]
        }
      ]
    },
    {
      "cell_type": "code",
      "source": [],
      "metadata": {
        "id": "t3_GphdAQZhm"
      },
      "execution_count": null,
      "outputs": []
    }
  ]
}